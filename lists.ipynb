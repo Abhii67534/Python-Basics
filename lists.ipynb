{
 "cells": [
  {
   "cell_type": "code",
   "execution_count": 8,
   "metadata": {},
   "outputs": [
    {
     "name": "stdout",
     "output_type": "stream",
     "text": [
      "2\n"
     ]
    }
   ],
   "source": [
    "print(1+1)"
   ]
  },
  {
   "cell_type": "markdown",
   "metadata": {},
   "source": [
    "## Lists\n",
    "---\n",
    "\n",
    "Lists are ordered,mutable collections of items\n",
    "\n",
    "They can contain items of different data types "
   ]
  },
  {
   "cell_type": "code",
   "execution_count": 9,
   "metadata": {},
   "outputs": [
    {
     "name": "stdout",
     "output_type": "stream",
     "text": [
      "<class 'list'>\n"
     ]
    }
   ],
   "source": [
    "lst=[]\n",
    "print(type(lst))"
   ]
  },
  {
   "cell_type": "code",
   "execution_count": 10,
   "metadata": {},
   "outputs": [
    {
     "name": "stdout",
     "output_type": "stream",
     "text": [
      "KRISH\n"
     ]
    }
   ],
   "source": [
    "name=[\"KRISH\",1,True]\n",
    "print(name[0])"
   ]
  },
  {
   "cell_type": "markdown",
   "metadata": {},
   "source": [
    "# In lists, when u refer to negative idexing , it will print elements from the end\n",
    "\n",
    "print(lst[-1]) will print last element , print(lst[-2]) will print second last element"
   ]
  },
  {
   "cell_type": "code",
   "execution_count": 15,
   "metadata": {},
   "outputs": [
    {
     "name": "stdout",
     "output_type": "stream",
     "text": [
      "mubs\n",
      "['hasan', 'mubs']\n"
     ]
    }
   ],
   "source": [
    "names=[\"abhi\",\"hasan\",\"mubs\",\"karan\"]\n",
    "print(names[-2])\n",
    "print(names[-3:-1])"
   ]
  },
  {
   "cell_type": "markdown",
   "metadata": {},
   "source": [
    "## Lists Inbuilt Functions\n",
    "\n",
    "- `append(x)`\n",
    "- `extend(iterable)`\n",
    "- `insert(i, x)`\n",
    "- `remove(x)`\n",
    "- `pop([i])`\n",
    "- `clear()`\n",
    "- `index(x)`\n",
    "- `count(x)`\n",
    "- `sort()`\n",
    "- `reverse()`\n",
    "- `copy()`\n",
    "- `join(iterable)`  *(for strings only)*\n",
    "- `del` statement\n",
    "- `copy.deepcopy()` *(requires the `copy` module)*\n",
    "- `list()`  \n",
    "- `max()`\n",
    "- `min()`\n",
    "- `sum()`"
   ]
  },
  {
   "cell_type": "code",
   "execution_count": 22,
   "metadata": {},
   "outputs": [
    {
     "name": "stdout",
     "output_type": "stream",
     "text": [
      "['vida', 'abhi', 'hasan', 'mubs', 'karan', 'sushi', 'hasan']\n",
      "['vida', 'abhi', 'hasan', 'mubs', 'karan', 'hasan']\n",
      "['vida', 'abhi', 'hasan', 'mubs', 'karan']\n",
      "['abhi', 'hasan', 'karan', 'mubs', 'vida']\n",
      "['vida', 'mubs', 'karan', 'hasan', 'abhi']\n"
     ]
    }
   ],
   "source": [
    "names=[\"abhi\",\"hasan\",\"mubs\",\"karan\"]\n",
    "names.extend([\"sushi\",\"hasan\"])\n",
    "names.insert(0,\"vida\")\n",
    "print(names)\n",
    "\n",
    "names.remove(\"sushi\")\n",
    "print(names)\n",
    "names.pop()\n",
    "print(names)\n",
    "names.sort()\n",
    "print(names)\n",
    "names.reverse()\n",
    "print(names)"
   ]
  },
  {
   "cell_type": "markdown",
   "metadata": {},
   "source": [
    "# Slicing- Jumping in lists (::) "
   ]
  },
  {
   "cell_type": "code",
   "execution_count": 26,
   "metadata": {},
   "outputs": [
    {
     "name": "stdout",
     "output_type": "stream",
     "text": [
      "[1, 3, 5, 7]\n",
      "[8, 7, 6, 5, 4, 3, 2, 1]\n",
      "[8, 6, 4, 2]\n"
     ]
    }
   ],
   "source": [
    "nums=[1,2,3,4,5,6,7,8]\n",
    "print(nums[::2])\n",
    "# print 1 then jump 2 , print 3 ......\n",
    "\n",
    "print(nums[::-1]) #print all the nums but in reverse order\n",
    "print(nums[::-2]) # jumping 2 steps but in reverse order"
   ]
  },
  {
   "cell_type": "markdown",
   "metadata": {},
   "source": [
    "# Iterating in Lists"
   ]
  },
  {
   "cell_type": "code",
   "execution_count": 30,
   "metadata": {},
   "outputs": [
    {
     "name": "stdout",
     "output_type": "stream",
     "text": [
      "0 1\n",
      "1 2\n",
      "2 3\n",
      "3 4\n",
      "4 5\n",
      "5 6\n",
      "6 7\n",
      "7 8\n"
     ]
    }
   ],
   "source": [
    "for index,num in enumerate(nums):\n",
    "    print(index,num )"
   ]
  },
  {
   "cell_type": "markdown",
   "metadata": {},
   "source": [
    "# List comprehension"
   ]
  },
  {
   "cell_type": "code",
   "execution_count": 3,
   "metadata": {},
   "outputs": [
    {
     "name": "stdout",
     "output_type": "stream",
     "text": [
      "[8, 64, 216, 512, 1000]\n",
      "[2, 3, 4, 5, 6, 7, 8, 9, 10, 11, 3, 4, 5, 6, 7, 8, 9, 10, 11, 12, 4, 5, 6, 7, 8, 9, 10, 11, 12, 13, 5, 6, 7, 8, 9, 10, 11, 12, 13, 14, 6, 7, 8, 9, 10, 11, 12, 13, 14, 15, 7, 8, 9, 10, 11, 12, 13, 14, 15, 16, 8, 9, 10, 11, 12, 13, 14, 15, 16, 17, 9, 10, 11, 12, 13, 14, 15, 16, 17, 18, 10, 11, 12, 13, 14, 15, 16, 17, 18, 19, 11, 12, 13, 14, 15, 16, 17, 18, 19, 20]\n"
     ]
    }
   ],
   "source": [
    "list1=[1,2,3,4,5,6,7,8,9,10]\n",
    "list2=[1,2,3,4,5,6,7,8,9,10]\n",
    "\n",
    "print([i**3 for i in list1 if i%2==0])\n",
    "#nested list\n",
    "new_list=[i+j for i in list1 for j in list2]\n",
    "\n",
    "print(new_list)"
   ]
  }
 ],
 "metadata": {
  "kernelspec": {
   "display_name": "venv",
   "language": "python",
   "name": "python3"
  },
  "language_info": {
   "codemirror_mode": {
    "name": "ipython",
    "version": 3
   },
   "file_extension": ".py",
   "mimetype": "text/x-python",
   "name": "python",
   "nbconvert_exporter": "python",
   "pygments_lexer": "ipython3",
   "version": "3.12.0"
  }
 },
 "nbformat": 4,
 "nbformat_minor": 2
}
